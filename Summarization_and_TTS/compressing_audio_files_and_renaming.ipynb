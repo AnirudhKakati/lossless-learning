{
 "cells": [
  {
   "cell_type": "markdown",
   "id": "dd443638-bb51-495a-abd0-4ccae04ab73e",
   "metadata": {},
   "source": [
    "## Renaming to hash index"
   ]
  },
  {
   "cell_type": "code",
   "execution_count": 7,
   "id": "02dd2abe-21ae-4264-96c0-88042f3c645f",
   "metadata": {},
   "outputs": [],
   "source": [
    "json_files = [\n",
    "    'summaries/foundational_mathematics_youtube_videos_with_transcripts_and_summaries.json',\n",
    "    'summaries/classical_machine_learning_youtube_videos_with_transcripts_and_summaries.json',\n",
    "    'summaries/programming_fundamentals_youtube_videos_with_transcripts_and_summaries.json',\n",
    "    'summaries/mlops_youtube_videos_with_transcripts_and_summaries.json',\n",
    "    'summaries/deep_learning_youtube_videos_with_transcripts_and_summaries.json',\n",
    "]\n",
    "\n",
    "audio_folders = [\n",
    "    \"compressed_outputs/foundational_mathematics_youtube_videos\",\n",
    "    \"compressed_outputs/classical_machine_learning_youtube_videos\",\n",
    "    \"compressed_outputs/programming_fundamentals_youtube_videos\",\n",
    "    \"compressed_outputs/mlops_youtube_videos\",\n",
    "    \"compressed_outputs/deep_learning_youtube_videos\",\n",
    "]"
   ]
  },
  {
   "cell_type": "code",
   "execution_count": 8,
   "id": "6eb3310b-377d-446c-a259-2c45d004bdb2",
   "metadata": {},
   "outputs": [],
   "source": [
    "import json\n",
    "from tqdm import tqdm\n",
    "import pandas as pd\n",
    "import hashlib"
   ]
  },
  {
   "cell_type": "code",
   "execution_count": 9,
   "id": "5fe6a986-06fd-48a9-a318-fb7cb9dce795",
   "metadata": {},
   "outputs": [],
   "source": [
    "dataframes = []\n",
    "\n",
    "for file in json_files:\n",
    "    with open(file, 'r') as f:\n",
    "        df = pd.DataFrame([json.loads(line) for line in f])\n",
    "        dataframes.append(df)\n",
    "\n",
    "\n",
    "for df, folder in zip(dataframes, audio_folders):\n",
    "    for idx, row in df.iterrows():\n",
    "        url = row[\"URL\"]\n",
    "        hash_key = hashlib.md5(url.encode()).hexdigest()\n",
    "        \n",
    "        old_idx = idx + 1\n",
    "        old_path = os.path.join(folder, f\"summary_{old_idx}.mp3\")\n",
    "        new_path = os.path.join(folder, f\"summary_{hash_key}.mp3\")\n",
    "\n",
    "        if os.path.exists(old_path):\n",
    "            os.rename(old_path, new_path)\n",
    "            # print(f\"Renamed: {old_path} → {new_path}\")\n",
    "        else:\n",
    "            print(f\"Missing file: {old_path}\")"
   ]
  },
  {
   "cell_type": "markdown",
   "id": "7300e894-900e-4c6e-af45-3b757cb7e4d1",
   "metadata": {},
   "source": [
    "## Compressing"
   ]
  },
  {
   "cell_type": "code",
   "execution_count": 1,
   "id": "e2235f38-b038-467c-897e-22a2f0ecc821",
   "metadata": {},
   "outputs": [],
   "source": [
    "import os\n",
    "from pydub import AudioSegment\n",
    "from tqdm import tqdm\n",
    "\n",
    "input_root = \"audio_outputs\"\n",
    "output_root = \"compressed_outputs\""
   ]
  },
  {
   "cell_type": "code",
   "execution_count": 2,
   "id": "4814b4fc-4fb4-4f06-9fc6-36cd85b6e8e4",
   "metadata": {},
   "outputs": [],
   "source": [
    "target_bitrate = \"512k\"\n",
    "target_sample_rate = 48000\n",
    "target_channels = 4"
   ]
  },
  {
   "cell_type": "code",
   "execution_count": 3,
   "id": "e690460a-f01b-4d1a-b9d4-82a354b5d7a7",
   "metadata": {},
   "outputs": [
    {
     "name": "stderr",
     "output_type": "stream",
     "text": [
      "100%|███████████████████████████████████████████████████████████████████████████████████████████████████████████████████████████████████████████████████████████████████████| 1/1 [00:00<00:00, 2178.86it/s]\n",
      "100%|█████████████████████████████████████████████████████████████████████████████████████████████████████████████████████████████████████████████████████████████████████| 108/108 [02:23<00:00,  1.33s/it]\n",
      "100%|█████████████████████████████████████████████████████████████████████████████████████████████████████████████████████████████████████████████████████████████████████| 104/104 [02:12<00:00,  1.27s/it]\n",
      "100%|███████████████████████████████████████████████████████████████████████████████████████████████████████████████████████████████████████████████████████████████████████| 84/84 [01:46<00:00,  1.27s/it]\n",
      "100%|█████████████████████████████████████████████████████████████████████████████████████████████████████████████████████████████████████████████████████████████████████| 136/136 [02:44<00:00,  1.21s/it]\n",
      "100%|█████████████████████████████████████████████████████████████████████████████████████████████████████████████████████████████████████████████████████████████████████| 204/204 [04:21<00:00,  1.28s/it]\n"
     ]
    }
   ],
   "source": [
    "for root, dirs, files in os.walk(input_root):\n",
    "    for file in tqdm(files):\n",
    "        if file.lower().endswith((\".mp3\", \".wav\", \".flac\", \".ogg\", \".m4a\")):\n",
    "            input_path = os.path.join(root, file)\n",
    "            relative_path = os.path.relpath(input_path, input_root)\n",
    "            output_path = os.path.join(output_root, os.path.splitext(relative_path)[0] + \".mp3\")\n",
    "\n",
    "            os.makedirs(os.path.dirname(output_path), exist_ok=True)\n",
    "\n",
    "            audio = AudioSegment.from_file(input_path)\n",
    "            audio = audio.set_channels(target_channels)\n",
    "            audio = audio.set_frame_rate(target_sample_rate)\n",
    "            audio.export(output_path, format=\"mp3\", bitrate=target_bitrate)"
   ]
  },
  {
   "cell_type": "code",
   "execution_count": null,
   "id": "9c562864-fea1-451c-9667-5e4ba607513e",
   "metadata": {},
   "outputs": [],
   "source": []
  }
 ],
 "metadata": {
  "kernelspec": {
   "display_name": "Python 3 (ipykernel)",
   "language": "python",
   "name": "python3"
  },
  "language_info": {
   "codemirror_mode": {
    "name": "ipython",
    "version": 3
   },
   "file_extension": ".py",
   "mimetype": "text/x-python",
   "name": "python",
   "nbconvert_exporter": "python",
   "pygments_lexer": "ipython3",
   "version": "3.8.20"
  }
 },
 "nbformat": 4,
 "nbformat_minor": 5
}
