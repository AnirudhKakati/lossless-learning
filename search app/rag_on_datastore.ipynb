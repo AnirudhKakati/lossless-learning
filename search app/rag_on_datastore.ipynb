{
 "cells": [
  {
   "cell_type": "code",
   "execution_count": null,
   "id": "d476181e-ad3b-459f-89e6-81f77cf4c8cb",
   "metadata": {},
   "outputs": [],
   "source": [
    "PROJECT_ID = \"ardent-sun-453501-d5\"  # @param {type:\"string\"}\n",
    "LOCATION = \"us-central1\"  # @param {type:\"string\"}\n",
    "\n",
    "import vertexai\n",
    "\n",
    "vertexai.init(project=PROJECT_ID, location=LOCATION)\n",
    "\n",
    "DATA_STORE_ID = \"book_store\"  # @param {type:\"string\"}\n",
    "DATA_STORE_LOCATION = \"global\"  # @param {type:\"string\"}\n",
    "\n",
    "MODEL = \"gemini-2.0-flash\"  # @param {type:\"string\"}\n",
    "\n",
    "# if PROJECT_ID == \"ardent-sun-453501-d5\" or DATA_STORE_ID == \"book_store\":\n",
    "#     raise ValueError(\n",
    "#         \"Please set the PROJECT_ID, DATA_STORE_ID constants to reflect your environment.\"\n",
    "#     )\n",
    "     \n",
    "    \n",
    "from langchain.chains import (\n",
    "    ConversationalRetrievalChain,\n",
    "    RetrievalQA,\n",
    "    RetrievalQAWithSourcesChain,\n",
    ")\n",
    "from langchain.memory import ConversationBufferMemory\n",
    "from langchain.prompts import PromptTemplate\n",
    "from langchain_google_community import (\n",
    "    VertexAIMultiTurnSearchRetriever,\n",
    "    VertexAISearchRetriever,\n",
    ")\n",
    "from langchain_google_vertexai import VertexAI\n",
    "\n",
    "\n",
    "\n",
    "\n",
    "llm = VertexAI(model_name=MODEL)\n",
    "\n",
    "retriever = VertexAISearchRetriever(\n",
    "    project_id=PROJECT_ID,\n",
    "    location_id=DATA_STORE_LOCATION,\n",
    "    data_store_id=DATA_STORE_ID,\n",
    "    get_extractive_answers=True,\n",
    "    max_documents=4,\n",
    "    max_extractive_segment_count=1,\n",
    "    max_extractive_answer_count=5,\n",
    "    beta=True\n",
    "    \n",
    ")\n",
    "\n",
    "\n",
    "search_query = \"What is MLOps\"  # @param {type:\"string\"}\n",
    "\n",
    "retrieval_qa = RetrievalQA.from_chain_type(\n",
    "    llm=llm, chain_type=\"stuff\", retriever=retriever, return_source_documents=True\n",
    ")\n",
    "\n",
    "ans  = retrieval_qa.invoke(search_query)\n",
    "\n"
   ]
  }
 ],
 "metadata": {
  "environment": {
   "kernel": "python3",
   "name": "common-cu124.m129",
   "type": "gcloud",
   "uri": "us-docker.pkg.dev/deeplearning-platform-release/gcr.io/base-cu124:m129"
  },
  "kernelspec": {
   "display_name": "Python 3",
   "language": "python",
   "name": "python3"
  },
  "language_info": {
   "codemirror_mode": {
    "name": "ipython",
    "version": 3
   },
   "file_extension": ".py",
   "mimetype": "text/x-python",
   "name": "python",
   "nbconvert_exporter": "python",
   "pygments_lexer": "ipython3",
   "version": "3.10.16"
  }
 },
 "nbformat": 4,
 "nbformat_minor": 5
}
