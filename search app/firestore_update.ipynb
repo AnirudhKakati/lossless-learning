{
 "cells": [
  {
   "cell_type": "code",
   "execution_count": 2,
   "id": "52c906e3-f010-4c76-a19a-7063fef4a5c0",
   "metadata": {
    "tags": []
   },
   "outputs": [],
   "source": [
    "from collections import defaultdict"
   ]
  },
  {
   "cell_type": "code",
   "execution_count": 81,
   "id": "f68bbd47-a638-4063-b577-7c81c04369f5",
   "metadata": {
    "tags": []
   },
   "outputs": [],
   "source": [
    "from langchain.chains import (\n",
    "    ConversationalRetrievalChain,\n",
    "    RetrievalQA,\n",
    "    RetrievalQAWithSourcesChain,\n",
    ")\n",
    "from langchain.memory import ConversationBufferMemory\n",
    "from langchain.prompts import PromptTemplate\n",
    "from langchain_google_community import (\n",
    "    VertexAIMultiTurnSearchRetriever,\n",
    "    VertexAISearchRetriever,\n",
    ")\n",
    "from langchain_google_vertexai import VertexAI\n",
    "\n",
    "from langchain.chains import create_retrieval_chain\n",
    "from langchain.chains.combine_documents import create_stuff_documents_chain\n",
    "from langchain_core.prompts import ChatPromptTemplate\n",
    "import re\n",
    "from google.cloud import storage\n",
    "import json\n",
    "import vertexai\n"
   ]
  },
  {
   "cell_type": "code",
   "execution_count": 4,
   "id": "75f39780-1461-46d5-9c8a-17655682594f",
   "metadata": {
    "tags": []
   },
   "outputs": [],
   "source": [
    "\n",
    "\n",
    "def read_json_from_gcs(bucket_name, file_path):\n",
    "    client = storage.Client()\n",
    "\n",
    "    bucket = client.bucket(bucket_name)\n",
    "\n",
    "    blob = bucket.blob(file_path)\n",
    "\n",
    "    json_data = json.loads(blob.download_as_text())\n",
    "\n",
    "    return json_data\n",
    "\n",
    "bucket_name = \"lossless-learning\"\n",
    "file_path = \"topics.json\"\n",
    "\n",
    "data = read_json_from_gcs(bucket_name, file_path)\n"
   ]
  },
  {
   "cell_type": "code",
   "execution_count": 56,
   "id": "9b197b8c-4ff4-4c30-8517-c91468587bfc",
   "metadata": {
    "tags": []
   },
   "outputs": [],
   "source": [
    "PROJECT_ID = \"ardent-sun-453501-d5\"  # @param {type:\"string\"}\n",
    "LOCATION = \"us-central1\"  # @param {type:\"string\"}\n",
    "\n",
    "\n",
    "vertexai.init(project=PROJECT_ID, location=LOCATION)\n",
    "\n",
    "DATA_STORE_ID = \"book_store\"  # @param {type:\"string\"}\n",
    "DATA_STORE_LOCATION = \"global\"  # @param {type:\"string\"}\n",
    "\n",
    "MODEL = \"gemini-2.0-flash\"  # @param {type:\"string\"}\n",
    "\n",
    "\n",
    "llm = VertexAI(model_name=MODEL)\n",
    "\n",
    "retriever = VertexAISearchRetriever(\n",
    "    project_id=PROJECT_ID,\n",
    "    location_id=DATA_STORE_LOCATION,\n",
    "    data_store_id=DATA_STORE_ID,\n",
    "    get_extractive_answers=True,\n",
    "    max_documents=4,\n",
    "    max_extractive_segment_count=5,\n",
    "    max_extractive_answer_count=5,\n",
    "    beta=True\n",
    "    \n",
    ")"
   ]
  },
  {
   "cell_type": "code",
   "execution_count": 156,
   "id": "de60ff59-b065-476d-b10a-694dcf10031a",
   "metadata": {
    "tags": []
   },
   "outputs": [
    {
     "name": "stdout",
     "output_type": "stream",
     "text": [
      "started domain ..... Foundational Mathematics\n",
      "Domain done ..... Foundational Mathematics\n",
      "started domain ..... Programming Fundamentals\n",
      "Domain done ..... Programming Fundamentals\n",
      "started domain ..... Classical Machine Learning\n",
      "Domain done ..... Classical Machine Learning\n",
      "started domain ..... Deep Learning\n",
      "Domain done ..... Deep Learning\n",
      "started domain ..... MLOps\n",
      "Domain done ..... MLOps\n"
     ]
    }
   ],
   "source": [
    "\n",
    "system_prompt = (\n",
    "    \n",
    "    \"Guding Principle - Follow the below instructions strictly:-\"\n",
    "    \"You are a helpful AI that provides detailed and descriptive answers using LaTeX formatting. \"\n",
    "    \"Use proper LaTeX structure for equations with `$$...$$`, and text formatting. \"\n",
    "    \"Use at least 200 words in your response, and answer based only on the context provided. \"\n",
    "    \"If you don't know the answer, say you don't know.\\n\\n\"\n",
    "    \n",
    "    \n",
    "    \"Context: {context}\"\n",
    ")\n",
    "\n",
    "\n",
    "\n",
    "prompt = ChatPromptTemplate.from_messages(\n",
    "    [\n",
    "        (\"system\", system_prompt),\n",
    "        (\"human\", \"{input}\"),\n",
    "    ]\n",
    ")\n",
    "question_answer_chain = create_stuff_documents_chain(llm, prompt)\n",
    "chain = create_retrieval_chain(retriever, question_answer_chain)\n",
    "\n",
    "\n",
    "docs = defaultdict(list)\n",
    "\n",
    "summary_doc = defaultdict(list)\n",
    "\n",
    "null_topics = []\n",
    "\n",
    "\n",
    "# k = 0\n",
    "\n",
    "for domain in data.keys():\n",
    "    print('started domain .....', domain)\n",
    "    for sub_domain in data[domain].keys():\n",
    "        for topic in data[domain][sub_domain].keys():\n",
    "            search_query = \"Explain the {}\".format(topic) \n",
    "            res = chain.invoke({\"input\":search_query})\n",
    "            ans = res['answer']\n",
    "            \n",
    "            dd = {'domain': domain, 'sub_domain': sub_domain, 'topic': topic, 'summary':ans}\n",
    "            summary_doc[domain].append(dd)\n",
    "            \n",
    "            if len(res['context'])==0:\n",
    "                \n",
    "                null_topics.append(topic)\n",
    "                \n",
    "            else:\n",
    "                \n",
    "                for i in range(min(5, len(res['context']))):\n",
    "\n",
    "\n",
    "                    raw_source = res['context'][i].metadata['source']\n",
    "                    pc = res['context'][i].page_content\n",
    "                    match = re.search(r'^(.*\\.pdf)(\\d+)$',raw_source)\n",
    "\n",
    "                    if match:\n",
    "                        page_number = int(match.group(2))\n",
    "                        source = str(match.group(1))\n",
    "\n",
    "                    else:\n",
    "\n",
    "                        page_number = ''\n",
    "                        source = ''\n",
    "\n",
    "                    d = {'domain': domain, 'sub_domain': sub_domain, 'topic': topic, 'resource_type': 'book', 'gcs_uri':source, \n",
    "                        'page_no':page_number, 'page_oevrview':pc }\n",
    "\n",
    "                    docs['domain'].append(d)   \n",
    "                    \n",
    "                    \n",
    "    print('Domain done .....', domain)"
   ]
  },
  {
   "cell_type": "code",
   "execution_count": 157,
   "id": "64d09d18-22eb-45b2-9d7f-938f878967bc",
   "metadata": {
    "tags": []
   },
   "outputs": [],
   "source": [
    "import json\n",
    "\n",
    "\n",
    "with open(\"data_firstore.json\", \"w\") as file:\n",
    "    json.dump(docs, file, indent=4)"
   ]
  },
  {
   "cell_type": "code",
   "execution_count": 158,
   "id": "0e88e5eb-1300-45f9-9977-74ab8a28d313",
   "metadata": {
    "tags": []
   },
   "outputs": [],
   "source": [
    "with open(\"data_summary.json\", \"w\") as file:\n",
    "    json.dump(summary_doc, file, indent=4)"
   ]
  },
  {
   "cell_type": "code",
   "execution_count": 89,
   "id": "f1c9c41a-e125-457c-a3ac-9cd51789f870",
   "metadata": {
    "tags": []
   },
   "outputs": [
    {
     "data": {
      "text/plain": [
       "{'input': 'Explain the Differentiation in calculus',\n",
       " 'context': [Document(metadata={'id': '61193cd79056eb817128e4722ba3de53', 'source': 'gs://lossless-learning/books/Calculus by Gilbert Strang.pdf55'}, page_content='The slope is the rate at which y changes with x. The derivative of a function is its &quot;rate of change.&quot; I mention that physics books use x(t)for distance. Darn it. To emphasize the definition of a derivative, here it is again with y and x: Ay - y(x + Ax)-y(x)- distance up -- - - dy = lim - AY = yl(x).'),\n",
       "  Document(metadata={'id': '61193cd79056eb817128e4722ba3de53', 'source': 'gs://lossless-learning/books/Calculus by Gilbert Strang.pdf51'}, page_content='On the graph of f(t), the distance up is divided by the distance across. That gives the average slope Af /At. The left sides of (1) and (2)are instantaneous speeds dfldt. They give the slope at the instant t. This is the derivative dfldt (when At and Af shrink to zero). Look again.'),\n",
       "  Document(metadata={'id': '61193cd79056eb817128e4722ba3de53', 'source': 'gs://lossless-learning/books/Calculus by Gilbert Strang.pdf57'}, page_content='While computing these derivatives, we look ahead to their applications. In using calculus, we meet equations with derivatives in them- &quot;diflerential equations.&quot; It is too early to solve those equations. But it is not too early to see the purpose of what we are doing. Our examples come from economics and biology.'),\n",
       "  Document(metadata={'id': 'badb69e1f176a8dfc2421162a50387eb', 'source': 'gs://lossless-learning/books/Advanced Calculus by Lynn H Loomis.pdf152'}, page_content='In the elementary one-variable calculus the derivative f&#39;(a) of a function f at the point a has geometric meaning as the slope of the tangent line to the graph of f at the point a. (Of course, according to our notion of a function, the graph of f is f.)'),\n",
       "  Document(metadata={'id': 'badb69e1f176a8dfc2421162a50387eb', 'source': 'gs://lossless-learning/books/Advanced Calculus by Lynn H Loomis.pdf177'}, page_content='The differential of an inverse map is the composition inverse of the differential of the map: if G = F-1 and F(a) = {3, then dG{3 = (dFa)-l. If the equation g(x, y) = ° defines y implicitly as a function of x, y = f(x), we learn to compute f&#39;(a) in the elementary calculus by differentiating and we get where b = f(a).'),\n",
       "  Document(metadata={'id': 'badb69e1f176a8dfc2421162a50387eb', 'source': 'gs://lossless-learning/books/Advanced Calculus by Lynn H Loomis.pdf159'}, page_content='The restriction of F to this line is the parametrized arc 1&#39;: &#39;Y(t) = F(a + t~). Its tangent vector (derivative) at the origin t = 0, if it exists, is called the derivative of F in the direction ~ at a, or the derivative of F with respect to ~ at a, and is designated D~F(a).'),\n",
       "  Document(metadata={'id': '6cb8f71c301d6c26000e590287b0e48a', 'source': 'gs://lossless-learning/books/Mathematics for Machine Learning by Marc Peter Deisenroth.pdf147'}, page_content='The difference quotient can also be considered the average slope of f between x and x + δx if we assume f to be a linear function. In the limit for δx → 0, we obtain the tangent of f at x, if f is differentiable. The tangent is then the derivative of f at x. Definition 5.2 (Derivative).'),\n",
       "  Document(metadata={'id': '6cb8f71c301d6c26000e590287b0e48a', 'source': 'gs://lossless-learning/books/Mathematics for Machine Learning by Marc Peter Deisenroth.pdf152'}, page_content='We find the gradient of the function f with respect to x by varying one variable at a time and keeping the others constant. The gradient is then the collection of these partial derivatives. Definition 5.5 (Partial Derivative). For a function f : Rn → R, x → f(x), x ∈ Rn partial derivative of n variables x1, .'),\n",
       "  Document(metadata={'id': '6cb8f71c301d6c26000e590287b0e48a', 'source': 'gs://lossless-learning/books/Mathematics for Machine Learning by Marc Peter Deisenroth.pdf151'}, page_content='A Taylor series is a special case of a power series f(x) = ∞ k=0 ak(x − c) k (5.28) where ak are coefficients and c is a constant, which has the special form in Definition 5.4. ♢ 5.1.2 Differentiation Rules In the following, we briefly state basic differentiation rules, where we denote the derivative of f by f ′ .'),\n",
       "  Document(metadata={'id': 'd3cef408deaa008fcdea1c751d97ec2d', 'source': 'gs://lossless-learning/books/Introduction to Applied Linear Algebra by Stephen Boyd.pdf453'}, page_content='The number limt→0 f(z + t) − f(z) t , (if the limit exists) is called the derivative of the function f at the point z. It gives the slope of the graph of f at the point (z, f(z)). We denote the derivative of f at z as f (z).'),\n",
       "  Document(metadata={'id': 'd3cef408deaa008fcdea1c751d97ec2d', 'source': 'gs://lossless-learning/books/Introduction to Applied Linear Algebra by Stephen Boyd.pdf454'}, page_content='Another useful rule is the derivative of product rule, for f(x) = g(x)h(x), which is f (z) = g (z)h(z) + g(z)h (z). The derivative operation is linear, which means that if f(x) = ag(x)+bh(x), where a and b are constants, we have f (z) = ag (z) + bh (z).'),\n",
       "  Document(metadata={'id': 'd3cef408deaa008fcdea1c751d97ec2d', 'source': 'gs://lossless-learning/books/Introduction to Applied Linear Algebra by Stephen Boyd.pdf45'}, page_content='Differential calculus gives us an organized way to find an approximate affine model. Suppose that f : R n → R is differentiable, which means that its par tial derivatives exist (see §C.1). Let z be an n-vector.')],\n",
       " 'answer': \"Differentiation in calculus concerns finding the derivative of a function. The derivative, often denoted as $f'(x)$ or $\\\\frac{dy}{dx}$, represents the instantaneous rate of change of a function with respect to its variable. Geometrically, the derivative $f'(a)$ at a point $a$ is the slope of the tangent line to the graph of the function $f$ at that point.\\n\\n**Formal Definition of the Derivative:**\\n\\nThe derivative of a function $y = f(x)$ is defined as the limit of the difference quotient as the change in $x$ (denoted as $\\\\Delta x$ or $h$) approaches zero:\\n\\n$\\\\qquad \\\\frac{dy}{dx} = f'(x) = \\\\lim_{\\\\Delta x \\\\to 0} \\\\frac{f(x + \\\\Delta x) - f(x)}{\\\\Delta x}$\\n\\nThis limit, if it exists, gives the instantaneous rate of change of $f(x)$ at the point $x$.\\n\\n**Notations:**\\n\\nVarious notations are used to represent the derivative:\\n\\n*   $f'(x)$ (Lagrange's notation)\\n*   $\\\\frac{dy}{dx}$ (Leibniz's notation)\\n*   $y'$\\n\\nLeibniz's notation $\\\\frac{dy}{dx}$ emphasizes the idea of an infinitesimally small change in $y$ divided by an infinitesimally small change in $x$.\\n\\n**Partial Derivatives:**\\n\\nFor functions of multiple variables, we use partial derivatives. The partial derivative of a function $f(x_1, x_2, ..., x_n)$ with respect to a variable $x_i$ is the derivative of $f$ with respect to $x_i$, treating all other variables as constants. The gradient of a function is a vector containing all its partial derivatives.\\n\\n**Differentiation Rules:**\\n\\nSeveral rules simplify the process of finding derivatives:\\n\\n*   **Power Rule:**  $\\\\frac{d}{dx}(x^n) = nx^{n-1}$\\n*   **Constant Multiple Rule:** $\\\\frac{d}{dx}[cf(x)] = c f'(x)$, where $c$ is a constant\\n*   **Sum/Difference Rule:** $\\\\frac{d}{dx}[f(x) \\\\pm g(x)] = f'(x) \\\\pm g'(x)$\\n*   **Product Rule:** $\\\\frac{d}{dx}[f(x)g(x)] = f'(x)g(x) + f(x)g'(x)$\\n*   **Quotient Rule:** $\\\\frac{d}{dx}\\\\left[\\\\frac{f(x)}{g(x)}\\\\right] = \\\\frac{f'(x)g(x) - f(x)g'(x)}{[g(x)]^2}$\\n*   **Chain Rule:** $\\\\frac{d}{dx}[f(g(x))] = f'(g(x)) \\\\cdot g'(x)$\\n\\n**Applications:**\\n\\nDifferentiation has numerous applications, including:\\n\\n*   Finding the slope of a curve at a given point\\n*   Determining maximum and minimum values of functions (optimization)\\n*   Analyzing rates of change in various contexts (e.g., physics, economics, biology)\\n*   Solving differential equations, which are equations involving derivatives\\n\\n**Derivatives and Tangent Lines:**\\n\\nThe derivative $f'(x)$ gives the slope of the tangent line to the graph of $f(x)$ at the point $(x, f(x))$. The equation of the tangent line at the point $(a, f(a))$ is given by:\\n\\n$\\\\qquad y - f(a) = f'(a)(x - a)$\\n\\n**Higher-Order Derivatives:**\\n\\nThe derivative of the derivative is called the second derivative, denoted as $f''(x)$ or $\\\\frac{d^2y}{dx^2}$.  It represents the rate of change of the slope of the function. Higher-order derivatives (third derivative, fourth derivative, etc.) can also be computed.\\n\"}"
      ]
     },
     "execution_count": 89,
     "metadata": {},
     "output_type": "execute_result"
    }
   ],
   "source": [
    "res['context']"
   ]
  },
  {
   "cell_type": "code",
   "execution_count": 92,
   "id": "0edb0845-d49d-42c1-a554-7a4cd6fa4890",
   "metadata": {
    "tags": []
   },
   "outputs": [],
   "source": [
    "a = res['answer']"
   ]
  },
  {
   "cell_type": "code",
   "execution_count": 93,
   "id": "8956fa06-cdae-4db3-945b-cb335360211b",
   "metadata": {
    "tags": []
   },
   "outputs": [
    {
     "name": "stdout",
     "output_type": "stream",
     "text": [
      "Differentiation in calculus concerns finding the derivative of a function. The derivative, often denoted as $f'(x)$ or $\\frac{dy}{dx}$, represents the instantaneous rate of change of a function with respect to its variable. Geometrically, the derivative $f'(a)$ at a point $a$ is the slope of the tangent line to the graph of the function $f$ at that point.\n",
      "\n",
      "**Formal Definition of the Derivative:**\n",
      "\n",
      "The derivative of a function $y = f(x)$ is defined as the limit of the difference quotient as the change in $x$ (denoted as $\\Delta x$ or $h$) approaches zero:\n",
      "\n",
      "$\\qquad \\frac{dy}{dx} = f'(x) = \\lim_{\\Delta x \\to 0} \\frac{f(x + \\Delta x) - f(x)}{\\Delta x}$\n",
      "\n",
      "This limit, if it exists, gives the instantaneous rate of change of $f(x)$ at the point $x$.\n",
      "\n",
      "**Notations:**\n",
      "\n",
      "Various notations are used to represent the derivative:\n",
      "\n",
      "*   $f'(x)$ (Lagrange's notation)\n",
      "*   $\\frac{dy}{dx}$ (Leibniz's notation)\n",
      "*   $y'$\n",
      "\n",
      "Leibniz's notation $\\frac{dy}{dx}$ emphasizes the idea of an infinitesimally small change in $y$ divided by an infinitesimally small change in $x$.\n",
      "\n",
      "**Partial Derivatives:**\n",
      "\n",
      "For functions of multiple variables, we use partial derivatives. The partial derivative of a function $f(x_1, x_2, ..., x_n)$ with respect to a variable $x_i$ is the derivative of $f$ with respect to $x_i$, treating all other variables as constants. The gradient of a function is a vector containing all its partial derivatives.\n",
      "\n",
      "**Differentiation Rules:**\n",
      "\n",
      "Several rules simplify the process of finding derivatives:\n",
      "\n",
      "*   **Power Rule:**  $\\frac{d}{dx}(x^n) = nx^{n-1}$\n",
      "*   **Constant Multiple Rule:** $\\frac{d}{dx}[cf(x)] = c f'(x)$, where $c$ is a constant\n",
      "*   **Sum/Difference Rule:** $\\frac{d}{dx}[f(x) \\pm g(x)] = f'(x) \\pm g'(x)$\n",
      "*   **Product Rule:** $\\frac{d}{dx}[f(x)g(x)] = f'(x)g(x) + f(x)g'(x)$\n",
      "*   **Quotient Rule:** $\\frac{d}{dx}\\left[\\frac{f(x)}{g(x)}\\right] = \\frac{f'(x)g(x) - f(x)g'(x)}{[g(x)]^2}$\n",
      "*   **Chain Rule:** $\\frac{d}{dx}[f(g(x))] = f'(g(x)) \\cdot g'(x)$\n",
      "\n",
      "**Applications:**\n",
      "\n",
      "Differentiation has numerous applications, including:\n",
      "\n",
      "*   Finding the slope of a curve at a given point\n",
      "*   Determining maximum and minimum values of functions (optimization)\n",
      "*   Analyzing rates of change in various contexts (e.g., physics, economics, biology)\n",
      "*   Solving differential equations, which are equations involving derivatives\n",
      "\n",
      "**Derivatives and Tangent Lines:**\n",
      "\n",
      "The derivative $f'(x)$ gives the slope of the tangent line to the graph of $f(x)$ at the point $(x, f(x))$. The equation of the tangent line at the point $(a, f(a))$ is given by:\n",
      "\n",
      "$\\qquad y - f(a) = f'(a)(x - a)$\n",
      "\n",
      "**Higher-Order Derivatives:**\n",
      "\n",
      "The derivative of the derivative is called the second derivative, denoted as $f''(x)$ or $\\frac{d^2y}{dx^2}$.  It represents the rate of change of the slope of the function. Higher-order derivatives (third derivative, fourth derivative, etc.) can also be computed.\n",
      "\n"
     ]
    }
   ],
   "source": [
    "clean_s = a.replace('\\\\\\\\', '\\\\')\n",
    "print(clean_s)\n"
   ]
  },
  {
   "cell_type": "code",
   "execution_count": null,
   "id": "ba21c2c7-d47e-418a-9d29-047131d60a9a",
   "metadata": {},
   "outputs": [],
   "source": []
  }
 ],
 "metadata": {
  "environment": {
   "kernel": "python3",
   "name": "common-cu124.m129",
   "type": "gcloud",
   "uri": "us-docker.pkg.dev/deeplearning-platform-release/gcr.io/base-cu124:m129"
  },
  "kernelspec": {
   "display_name": "Python 3",
   "language": "python",
   "name": "python3"
  },
  "language_info": {
   "codemirror_mode": {
    "name": "ipython",
    "version": 3
   },
   "file_extension": ".py",
   "mimetype": "text/x-python",
   "name": "python",
   "nbconvert_exporter": "python",
   "pygments_lexer": "ipython3",
   "version": "3.10.16"
  }
 },
 "nbformat": 4,
 "nbformat_minor": 5
}
