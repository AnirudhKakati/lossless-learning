{
 "cells": [
  {
   "cell_type": "code",
   "execution_count": null,
   "id": "86784bf7-6e93-4235-8f94-25e9da13705a",
   "metadata": {},
   "outputs": [],
   "source": [
    "from google.cloud import storage\n",
    "import fitz  # PyMuPDF\n",
    "from google.cloud import storage\n",
    "import io\n",
    "from google.api_core.client_options import ClientOptions\n",
    "from google.cloud import discoveryengine\n"
   ]
  },
  {
   "cell_type": "code",
   "execution_count": null,
   "id": "8e5e12e2-0989-4fdf-8ae5-f4683490939d",
   "metadata": {},
   "outputs": [],
   "source": [
    "def list_pdfs(bucket_name = 'lossless-learning', prefix=\"books\"):\n",
    "    client = storage.Client()\n",
    "    bucket = client.bucket(bucket_name)\n",
    "    return ['gs://lossless-learning/'+blob.name for blob in bucket.list_blobs(prefix=prefix) if blob.name.endswith(\".pdf\")]\n"
   ]
  },
  {
   "cell_type": "code",
   "execution_count": null,
   "id": "33328ea3-ef52-403b-a5f6-e13cf7427e57",
   "metadata": {},
   "outputs": [],
   "source": [
    "pdf_list = list_pdfs()"
   ]
  },
  {
   "cell_type": "code",
   "execution_count": null,
   "id": "744579e8-a447-42c1-bb71-36588a434e42",
   "metadata": {},
   "outputs": [],
   "source": [
    "def read_pdf_from_gcs(bucket_name, blob_name):\n",
    "    client = storage.Client()\n",
    "    bucket = client.get_bucket(bucket_name)\n",
    "    blob = bucket.blob(blob_name)\n",
    "    pdf_bytes = blob.download_as_bytes()\n",
    "\n",
    "    doc = fitz.open(stream=pdf_bytes, filetype=\"pdf\")\n",
    "    pages = [page.get_text().lower() for page in doc]\n",
    "    doc.close()\n",
    "    return pages  \n"
   ]
  },
  {
   "cell_type": "code",
   "execution_count": null,
   "id": "2b2d9841-86e7-40b1-91bf-8cca621a6314",
   "metadata": {},
   "outputs": [],
   "source": [
    "books_pages = []\n",
    "for pdf in pdf_list:\n",
    "    pages = read_pdf_from_gcs('lossless-learning',pdf )\n",
    "    books_pages.append(pages)"
   ]
  },
  {
   "cell_type": "code",
   "execution_count": null,
   "id": "3ab74cca-2a39-411b-93b6-a61ae04a1559",
   "metadata": {},
   "outputs": [],
   "source": [
    "project_id = \"ardent-sun-453501-d5\"\n",
    "location = \"global\" # Values: \"global\"\n",
    "data_store_id = \"book_store\"\n",
    "\n",
    "\n",
    "def create_data_store_sample(\n",
    "    project_id: str,\n",
    "    location: str,\n",
    "    data_store_id: str,\n",
    ") -> str:\n",
    "    #  For more information, refer to:\n",
    "    # https://cloud.google.com/generative-ai-app-builder/docs/locations#specify_a_multi-region_for_your_data_store\n",
    "    client_options = (\n",
    "        ClientOptions(api_endpoint=f\"{location}-discoveryengine.googleapis.com\")\n",
    "        if location != \"global\"\n",
    "        else None\n",
    "    )\n",
    "\n",
    "    # Create a client\n",
    "    client = discoveryengine.DataStoreServiceClient(client_options=client_options)\n",
    "\n",
    "    # The full resource name of the collection\n",
    "    # e.g. projects/{project}/locations/{location}/collections/default_collection\n",
    "    parent = client.collection_path(\n",
    "        project=project_id,\n",
    "        location=location,\n",
    "        collection=\"default_collection\",\n",
    "    )\n",
    "\n",
    "    data_store = discoveryengine.DataStore(\n",
    "        display_name=\"datastore books\",\n",
    "        # Options: GENERIC, MEDIA, HEALTHCARE_FHIR\n",
    "        industry_vertical=discoveryengine.IndustryVertical.GENERIC,\n",
    "        # Options: SOLUTION_TYPE_RECOMMENDATION, SOLUTION_TYPE_SEARCH, SOLUTION_TYPE_CHAT, SOLUTION_TYPE_GENERATIVE_CHAT\n",
    "        solution_types=[discoveryengine.SolutionType.SOLUTION_TYPE_SEARCH],\n",
    "        # TODO(developer): Update content_config based on data store type.\n",
    "        # Options: NO_CONTENT, CONTENT_REQUIRED, PUBLIC_WEBSITE\n",
    "        content_config=discoveryengine.DataStore.ContentConfig.CONTENT_REQUIRED,\n",
    "    )\n",
    "\n",
    "    request = discoveryengine.CreateDataStoreRequest(\n",
    "        parent=parent,\n",
    "        data_store_id=data_store_id,\n",
    "        data_store=data_store,\n",
    "        # Optional: For Advanced Site Search Only\n",
    "        # create_advanced_site_search=True,\n",
    "    )\n",
    "\n",
    "    # Make the request\n",
    "    operation = client.create_data_store(request=request)\n",
    "\n",
    "    print(f\"Waiting for operation to complete: {operation.operation.name}\")\n",
    "    response = operation.result()\n",
    "\n",
    "    # After the operation is complete,\n",
    "    # get information from operation metadata\n",
    "    metadata = discoveryengine.CreateDataStoreMetadata(operation.metadata)\n",
    "\n",
    "    # Handle the response\n",
    "    print(response)\n",
    "    print(metadata)\n",
    "\n",
    "    return operation.operation.name\n"
   ]
  },
  {
   "cell_type": "code",
   "execution_count": null,
   "id": "a101f520-0fb6-41d9-b670-bf396efbc464",
   "metadata": {},
   "outputs": [],
   "source": [
    "create_data_store_sample(  project_id, location, data_store_id)"
   ]
  },
  {
   "cell_type": "code",
   "execution_count": 1,
   "id": "e2059ae0-72a1-48b0-a2ba-cadc12b3884e",
   "metadata": {
    "tags": []
   },
   "outputs": [],
   "source": [
    "## add documents to data store"
   ]
  },
  {
   "cell_type": "code",
   "execution_count": null,
   "id": "62bde650-88af-46a7-99a8-dd7125b741f9",
   "metadata": {},
   "outputs": [],
   "source": [
    "from google.api_core.client_options import ClientOptions\n",
    "from google.cloud import discoveryengine\n",
    "\n",
    "# TODO(developer): Uncomment these variables before running the sample.\n",
    "# project_id = \"YOUR_PROJECT_ID\"\n",
    "# location = \"YOUR_LOCATION\" # Values: \"global\"\n",
    "# data_store_id = \"YOUR_DATA_STORE_ID\"\n",
    "\n",
    "# Examples:\n",
    "# - Unstructured documents\n",
    "#   - `gs://bucket/directory/file.pdf`\n",
    "#   - `gs://bucket/directory/*.pdf`\n",
    "# - Unstructured documents with JSONL Metadata\n",
    "#   - `gs://bucket/directory/file.json`\n",
    "# - Unstructured documents with CSV Metadata\n",
    "#   - `gs://bucket/directory/file.csv`\n",
    "gcs_uri = pdf_list\n",
    "\n",
    "#  For more information, refer to:\n",
    "# https://cloud.google.com/generative-ai-app-builder/docs/locations#specify_a_multi-region_for_your_data_store\n",
    "client_options = (\n",
    "    ClientOptions(api_endpoint=f\"{location}-discoveryengine.googleapis.com\")\n",
    "    if location != \"global\"\n",
    "    else None\n",
    ")\n",
    "\n",
    "# Create a client\n",
    "client = discoveryengine.DocumentServiceClient(client_options=client_options)\n",
    "\n",
    "# The full resource name of the search engine branch.\n",
    "# e.g. projects/{project}/locations/{location}/dataStores/{data_store_id}/branches/{branch}\n",
    "parent = client.branch_path(\n",
    "    project=project_id,\n",
    "    location=location,\n",
    "    data_store=data_store_id,\n",
    "    branch=\"default_branch\",\n",
    ")\n",
    "\n",
    "request = discoveryengine.ImportDocumentsRequest(\n",
    "    parent=parent,\n",
    "    gcs_source=discoveryengine.GcsSource(\n",
    "        # Multiple URIs are supported\n",
    "        input_uris=gcs_uri,\n",
    "        # Options:\n",
    "        # - `content` - Unstructured documents (PDF, HTML, DOC, TXT, PPTX)\n",
    "        # - `custom` - Unstructured documents with custom JSONL metadata\n",
    "        # - `document` - Structured documents in the discoveryengine.Document format.\n",
    "        # - `csv` - Unstructured documents with CSV metadata\n",
    "        data_schema=\"content\",\n",
    "    ),\n",
    "    # Options: `FULL`, `INCREMENTAL`\n",
    "    reconciliation_mode=discoveryengine.ImportDocumentsRequest.ReconciliationMode.INCREMENTAL,\n",
    ")\n",
    "\n",
    "operation = client.import_documents(request=request)\n",
    "\n",
    "print(f\"Waiting for operation to complete: {operation.operation.name}\")\n",
    "response = operation.result()\n",
    "\n",
    "metadata = discoveryengine.ImportDocumentsMetadata(operation.metadata)\n",
    "\n",
    "# Handle the response\n",
    "print(response)\n",
    "print(metadata)"
   ]
  }
 ],
 "metadata": {
  "environment": {
   "kernel": "python3",
   "name": "common-cu124.m129",
   "type": "gcloud",
   "uri": "us-docker.pkg.dev/deeplearning-platform-release/gcr.io/base-cu124:m129"
  },
  "kernelspec": {
   "display_name": "Python 3",
   "language": "python",
   "name": "python3"
  },
  "language_info": {
   "codemirror_mode": {
    "name": "ipython",
    "version": 3
   },
   "file_extension": ".py",
   "mimetype": "text/x-python",
   "name": "python",
   "nbconvert_exporter": "python",
   "pygments_lexer": "ipython3",
   "version": "3.10.16"
  }
 },
 "nbformat": 4,
 "nbformat_minor": 5
}
